{
 "cells": [
  {
   "cell_type": "markdown",
   "id": "c00bf7b7-5549-4bce-a043-012e73a7f929",
   "metadata": {},
   "source": [
    "## The idea: \n",
    "First we will want to get all the links we want. Meaning that for each company and each region we want a base link. Other filters can simply be obtained from modifying these base links."
   ]
  },
  {
   "cell_type": "markdown",
   "id": "57eebf23-9528-4fe2-98e7-1cda0deb991f",
   "metadata": {},
   "source": [
    "## Installing the necessary packages & driver\n",
    "As specific python packages we will need selenium which allow us to automate a webbrowser and beautifulsoup which is a classic html parser. This can easily be done with pip or conda. We are also going to need a driver which will be the browser we are going to automate. The links to install the driver can be found here: https://selenium-python.readthedocs.io/installation.html\n",
    "\n",
    "Note: Be careful to install the driver and the version corresponding to your working browser. To know what google version you are using go to help>about google chrome "
   ]
  },
  {
   "cell_type": "markdown",
   "id": "a7d158ac-6b66-4142-98bc-23531bb32269",
   "metadata": {},
   "source": [
    "## Setup"
   ]
  },
  {
   "cell_type": "code",
   "execution_count": 67,
   "id": "ee16bfaf-348f-4ed1-8396-dfa5ec51b10c",
   "metadata": {},
   "outputs": [],
   "source": [
    "# Imports\n",
    "from selenium import webdriver\n",
    "from bs4 import BeautifulSoup\n",
    "from selenium.webdriver.common.keys import Keys\n",
    "from selenium.webdriver.common.action_chains import ActionChains\n",
    "from selenium.common.exceptions import NoSuchElementException, ElementClickInterceptedException, ElementNotInteractableException, WebDriverException\n",
    "\n",
    "import random\n",
    "import time\n",
    "import pandas as pd"
   ]
  },
  {
   "cell_type": "code",
   "execution_count": 68,
   "id": "847b0585-f8cc-436a-b460-4630be498d54",
   "metadata": {},
   "outputs": [],
   "source": [
    "def get_rid_overlay(driver):\n",
    "    \"\"\"\n",
    "    Sometimes the site shows an overlay that cannot be removed by clicking, which blocks interaction with the site,\n",
    "    this is some code to remove it.\n",
    "    \"\"\"\n",
    "    driver.execute_script(\"\"\"\n",
    "        javascript:(function(){\n",
    "          document.getElementsByClassName('hardsellOverlay')[0].remove();\n",
    "          document.getElementsByTagName(\"body\")[0].style.overflow = \"scroll\";\n",
    "          let style = document.createElement('style');\n",
    "          style.innerHTML = `\n",
    "            #LoginModal {\n",
    "              display: none!important;\n",
    "            }\n",
    "          `;\n",
    "          document.head.appendChild(style);\n",
    "          window.addEventListener(\"scroll\", function (event) {\n",
    "            event.stopPropagation();\n",
    "          }, true);\n",
    "        })();\n",
    "        \"\"\")\n",
    "    return driver"
   ]
  },
  {
   "cell_type": "code",
   "execution_count": 69,
   "id": "ab71491e-458a-428c-92fd-97c6d2ff1f5f",
   "metadata": {},
   "outputs": [],
   "source": [
    "def setup_driver_to_reviews_search():\n",
    "    \"\"\"\n",
    "    Launches driver, sets window size and implicit wait\n",
    "    \"\"\"\n",
    "    driver = webdriver.Chrome('/Users/corentin/OneDrive - Universite de Liege/chromedriver_2')\n",
    "    time.sleep(3)\n",
    "    driver.set_window_size(1280, 800)\n",
    "    driver.implicitly_wait(20)\n",
    "    driver.get('https://www.glassdoor.com/Reviews/index.htm')\n",
    "    return driver"
   ]
  },
  {
   "cell_type": "code",
   "execution_count": 70,
   "id": "d405ff83-0582-42fb-8181-bff9f10ef1f2",
   "metadata": {},
   "outputs": [],
   "source": [
    "driver = setup_driver_to_reviews_search()"
   ]
  },
  {
   "cell_type": "code",
   "execution_count": 71,
   "id": "572e4117-3db6-4100-9c2c-7c51e5f16402",
   "metadata": {},
   "outputs": [],
   "source": [
    "# Set site language to us\n",
    "def set_site_language(driver):\n",
    "    time.sleep(random.uniform(2, 4))\n",
    "    # Scroll to the bottom of the page\n",
    "    driver.execute_script('window.scrollTo(0, document.body.scrollHeight)')\n",
    "    time.sleep(random.uniform(2, 4))\n",
    "    \n",
    "    # Find the box for language choice and click on it\n",
    "    language_choice = driver.find_element_by_xpath('//*[@id=\"Footer\"]/nav/ul[2]/li[3]/div/div/div[1]')\n",
    "    language_choice.click()\n",
    "    \n",
    "    # Parse the html of the page and find the choices of language, click on united states\n",
    "    soup = BeautifulSoup(driver.page_source, 'lxml')\n",
    "    language_click_box = soup.find('div', class_='dropdownOptions dropdownExpanded animated above')\n",
    "    for li in language_click_box.find_all('li'):\n",
    "        country = li.find_all('span')[1].string\n",
    "        if country == 'United States':\n",
    "            us_id = li.get('id')\n",
    "            break\n",
    "    us = driver.find_element_by_id(us_id)\n",
    "    time.sleep(random.uniform(2, 4))\n",
    "    us.click()\n",
    "    time.sleep(random.uniform(2, 4))\n",
    "    return driver"
   ]
  },
  {
   "cell_type": "code",
   "execution_count": 72,
   "id": "dbda5eee-2517-49a0-883b-617731fd36d7",
   "metadata": {},
   "outputs": [],
   "source": [
    "driver = set_site_language(driver)"
   ]
  },
  {
   "cell_type": "markdown",
   "id": "cea79c39-931e-4fa3-9786-102258e73e08",
   "metadata": {},
   "source": [
    "## Looking for the companies"
   ]
  },
  {
   "cell_type": "code",
   "execution_count": 73,
   "id": "43f00e51-2a23-40f3-b1ec-5b7c48827e18",
   "metadata": {},
   "outputs": [],
   "source": [
    "def search_company(company):\n",
    "    \"\"\"\n",
    "    Searches the name of a company in the search bar\n",
    "    \"\"\"\n",
    "    search_bar = driver.find_element_by_xpath('//*[@id=\"KeywordSearch\"]')\n",
    "    search_bar.send_keys(company)\n",
    "    search_bar.send_keys(Keys.ENTER)\n",
    "    \n",
    "    try:\n",
    "        first_result = driver.find_element_by_xpath('//*[@id=\"MainCol\"]/div/div[1]/div/div[1]/div/div[2]/h2/a')\n",
    "        first_result.click()\n",
    "    except:\n",
    "        print(f'{company} not found')\n",
    "    return driver"
   ]
  },
  {
   "cell_type": "code",
   "execution_count": 74,
   "id": "12f78641-dc02-4a74-9703-851659dea9bf",
   "metadata": {},
   "outputs": [
    {
     "name": "stdout",
     "output_type": "stream",
     "text": [
      "pwc not found\n"
     ]
    }
   ],
   "source": [
    "driver = search_company('pwc')"
   ]
  },
  {
   "cell_type": "code",
   "execution_count": 75,
   "id": "440c1d33-cf29-4b65-b476-317e96b471a4",
   "metadata": {},
   "outputs": [],
   "source": [
    "def get_reviews_page(driver):\n",
    "    soup = BeautifulSoup(driver.page_source, 'lxml')\n",
    "    reviews_tag = soup.find('a', {'data-test': 'reviewSeeAllLink'})\n",
    "    url_path = reviews_tag.get('href')\n",
    "    domain = 'https://www.glassdoor.com'\n",
    "    reviews_url = domain + url_path\n",
    "    \n",
    "    driver.get(reviews_url)\n",
    "    \n",
    "    return driver"
   ]
  },
  {
   "cell_type": "code",
   "execution_count": 76,
   "id": "b3442360-204f-44e2-be53-53d5156546bb",
   "metadata": {},
   "outputs": [],
   "source": [
    "driver = get_reviews_page(driver)"
   ]
  },
  {
   "cell_type": "code",
   "execution_count": 78,
   "id": "b9bf9f17-e95a-4439-a8fa-024b21235cfb",
   "metadata": {},
   "outputs": [],
   "source": [
    "driver = get_rid_overlay(driver)"
   ]
  },
  {
   "cell_type": "markdown",
   "id": "2ba0ee14-94ff-4207-b15e-e7471dd84272",
   "metadata": {},
   "source": [
    "## Specifying regions"
   ]
  },
  {
   "cell_type": "code",
   "execution_count": 79,
   "id": "764b743b-e0dc-46c0-b0b1-4c495270c812",
   "metadata": {},
   "outputs": [],
   "source": [
    "# If need to specify location\n",
    "def get_url_by_location(locations, driver):\n",
    "    \"\"\"\n",
    "    Adjusts window size because otherwise no scrolling possible\n",
    "    Selects a location and returns url of the page\n",
    "    \"\"\"\n",
    "    driver.set_window_size(1384, 789)\n",
    "    time.sleep(random.uniform(2, 4))\n",
    "    \n",
    "    urls = {}\n",
    "    for location in locations:\n",
    "        try:\n",
    "            time.sleep(random.uniform(2, 4))\n",
    "            driver.execute_script(\"window.scrollBy(0, arguments[0]);\", 500)\n",
    "\n",
    "            filter_button = driver.find_element_by_xpath('//*[@id=\"MainContent\"]/div/div[1]/div[1]/div[1]/div/div[1]/div[2]/div[2]/button/span')\n",
    "            filter_button.click()\n",
    "            time.sleep(random.uniform(2, 3))\n",
    "\n",
    "            location_box = driver.find_element_by_xpath('//*[@id=\"MainContent\"]/div/div[1]/div[1]/div[1]/div/div[1]/div[3]/div[2]/div[1]/div/div[1]')\n",
    "            location_box.click()\n",
    "            time.sleep(random.uniform(2, 3))\n",
    "\n",
    "            location_input = driver.find_element_by_xpath('//*[@id=\"MainContent\"]/div/div[1]/div[1]/div[1]/div/div[1]/div[3]/div[2]/div[1]/div/div[1]/div/div/div/input')\n",
    "            location_input.send_keys(location)\n",
    "            time.sleep(random.uniform(1, 2))\n",
    "            location_input.send_keys(Keys.ARROW_DOWN)\n",
    "            time.sleep(random.uniform(1, 2))\n",
    "            location_input.send_keys(Keys.ENTER)\n",
    "\n",
    "            time.sleep(random.uniform(2, 4))\n",
    "            urls[location] = driver.current_url\n",
    "            driver = get_rid_overlay(driver)\n",
    "        except:\n",
    "            urls[location] = ''\n",
    "    \n",
    "    return driver, urls"
   ]
  },
  {
   "cell_type": "code",
   "execution_count": 80,
   "id": "242f09ad-7987-43b4-bc53-2ac81dcd91e8",
   "metadata": {},
   "outputs": [],
   "source": [
    "driver, urls = get_url_by_location(['netherlands', 'belgium'], driver)"
   ]
  },
  {
   "cell_type": "code",
   "execution_count": null,
   "id": "31c65f56-222e-44f6-985e-c1d01793973e",
   "metadata": {},
   "outputs": [],
   "source": [
    "def add_filter(urls, filter_path):\n",
    "    for key, value in urls.items():\n",
    "        value"
   ]
  }
 ],
 "metadata": {
  "kernelspec": {
   "display_name": "Python 3 (ipykernel)",
   "language": "python",
   "name": "python3"
  },
  "language_info": {
   "codemirror_mode": {
    "name": "ipython",
    "version": 3
   },
   "file_extension": ".py",
   "mimetype": "text/x-python",
   "name": "python",
   "nbconvert_exporter": "python",
   "pygments_lexer": "ipython3",
   "version": "3.9.7"
  }
 },
 "nbformat": 4,
 "nbformat_minor": 5
}
