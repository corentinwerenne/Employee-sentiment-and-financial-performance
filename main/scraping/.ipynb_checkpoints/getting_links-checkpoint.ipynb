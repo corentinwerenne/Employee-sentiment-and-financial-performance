{
 "cells": [
  {
   "cell_type": "markdown",
   "id": "c00bf7b7-5549-4bce-a043-012e73a7f929",
   "metadata": {},
   "source": [
    "## The idea: \n",
    "First we will want to get all the links we want. Meaning that for each company and each region we want a base link. Other filters can simply be obtained from modifying these base links.\n"
   ]
  },
  {
   "cell_type": "markdown",
   "id": "57eebf23-9528-4fe2-98e7-1cda0deb991f",
   "metadata": {},
   "source": [
    "## Installing the necessary packages & driver\n",
    "As specific python packages we will need selenium which allow us to automate a webbrowser and beautifulsoup which is a classic html parser. This can easily be done with pip or conda. We are also going to need a driver which will be the browser we are going to automate. The links to install the driver can be found here: https://selenium-python.readthedocs.io/installation.html\n",
    "\n",
    "Note: Be careful to install the driver and the version corresponding to your working browser. To know what google version you are using go to help>about google chrome "
   ]
  },
  {
   "cell_type": "markdown",
   "id": "a7d158ac-6b66-4142-98bc-23531bb32269",
   "metadata": {},
   "source": [
    "## Setup"
   ]
  },
  {
   "cell_type": "code",
   "execution_count": 1,
   "id": "ee16bfaf-348f-4ed1-8396-dfa5ec51b10c",
   "metadata": {},
   "outputs": [],
   "source": [
    "# Imports\n",
    "from selenium import webdriver\n",
    "from bs4 import BeautifulSoup\n",
    "from selenium.webdriver.common.keys import Keys\n",
    "from selenium.common.exceptions import NoSuchElementException, ElementClickInterceptedException, ElementNotInteractableException, WebDriverException\n",
    "\n",
    "import logging\n",
    "import re\n",
    "import random\n",
    "import time\n",
    "import pandas as pd"
   ]
  },
  {
   "cell_type": "code",
   "execution_count": 2,
   "id": "9b63d18c-807c-44cb-ab83-7ad3ad2e78ef",
   "metadata": {},
   "outputs": [],
   "source": [
    "# For logging\n",
    "logger = logging.getLogger()\n",
    "fhandler = logging.FileHandler(filename='links.log', mode='a')\n",
    "formatter = logging.Formatter('%(asctime)s - %(name)s - %(levelname)s - %(message)s')\n",
    "fhandler.setFormatter(formatter)\n",
    "logger.addHandler(fhandler)\n",
    "logger.setLevel(logging.DEBUG)"
   ]
  },
  {
   "cell_type": "code",
   "execution_count": 36,
   "id": "47813c44-265b-41c2-90df-05a68b0a2d1c",
   "metadata": {},
   "outputs": [],
   "source": [
    "def read_status():\n",
    "    status_df = pd.read_csv('link_status.csv', sep=';', index_col=0)\n",
    "    return status_df"
   ]
  },
  {
   "cell_type": "code",
   "execution_count": 15,
   "id": "847b0585-f8cc-436a-b460-4630be498d54",
   "metadata": {},
   "outputs": [],
   "source": [
    "def get_rid_overlay(driver):\n",
    "    \"\"\"\n",
    "    Sometimes the site shows an overlay that cannot be removed by clicking, which blocks interaction with the site,\n",
    "    this is some code to remove it.\n",
    "    \"\"\"\n",
    "    driver.execute_script(\"\"\"\n",
    "        javascript:(function(){\n",
    "          document.getElementsByClassName('hardsellOverlay')[0].remove();\n",
    "          document.getElementsByTagName(\"body\")[0].style.overflow = \"scroll\";\n",
    "          let style = document.createElement('style');\n",
    "          style.innerHTML = `\n",
    "            #LoginModal {\n",
    "              display: none!important;\n",
    "            }\n",
    "          `;\n",
    "          document.head.appendChild(style);\n",
    "          window.addEventListener(\"scroll\", function (event) {\n",
    "            event.stopPropagation();\n",
    "          }, true);\n",
    "        })();\n",
    "        \"\"\")\n",
    "    return driver"
   ]
  },
  {
   "cell_type": "code",
   "execution_count": 16,
   "id": "ab71491e-458a-428c-92fd-97c6d2ff1f5f",
   "metadata": {},
   "outputs": [],
   "source": [
    "def setup_driver_to_reviews_search():\n",
    "    \"\"\"\n",
    "    Launches driver, sets window size and implicit wait\n",
    "    \"\"\"\n",
    "    driver = webdriver.Chrome('/Users/corentin/OneDrive - Universite de Liege/chromedriver')\n",
    "    time.sleep(3)\n",
    "    driver.implicitly_wait(20)\n",
    "    driver.get('https://www.glassdoor.com/Reviews/index.htm')\n",
    "    driver.set_window_size(1280, 800)\n",
    "    \n",
    "    logging.info('Driver succesfully setup')\n",
    "    return driver"
   ]
  },
  {
   "cell_type": "code",
   "execution_count": 18,
   "id": "572e4117-3db6-4100-9c2c-7c51e5f16402",
   "metadata": {},
   "outputs": [],
   "source": [
    "# Set site language to us\n",
    "def set_site_language(driver):\n",
    "    time.sleep(random.uniform(2, 4))\n",
    "    # Scroll to the bottom of the page\n",
    "    driver.execute_script('window.scrollTo(0, document.body.scrollHeight)')\n",
    "    time.sleep(random.uniform(2, 4))\n",
    "    \n",
    "    # Find the box for language choice and click on it\n",
    "    language_choice = driver.find_element_by_xpath('//*[@id=\"Footer\"]/nav/ul[2]/li[3]/div/div/div[1]')\n",
    "    language_choice.click()\n",
    "    \n",
    "    # Parse the html of the page and find the choices of language, click on united states\n",
    "    soup = BeautifulSoup(driver.page_source, 'lxml')\n",
    "    language_click_box = soup.find('div', class_='dropdownOptions dropdownExpanded animated above')\n",
    "    for li in language_click_box.find_all('li'):\n",
    "        country = li.find_all('span')[1].string\n",
    "        if country == 'United States':\n",
    "            us_id = li.get('id')\n",
    "            break\n",
    "    us = driver.find_element_by_id(us_id)\n",
    "    time.sleep(random.uniform(2, 4))\n",
    "    us.click()\n",
    "    time.sleep(random.uniform(2, 4))\n",
    "    \n",
    "    logging.info('Website succesfully put in english')\n",
    "    return driver"
   ]
  },
  {
   "cell_type": "markdown",
   "id": "cea79c39-931e-4fa3-9786-102258e73e08",
   "metadata": {
    "tags": []
   },
   "source": [
    "## Looking for the companies"
   ]
  },
  {
   "cell_type": "code",
   "execution_count": 56,
   "id": "43f00e51-2a23-40f3-b1ec-5b7c48827e18",
   "metadata": {},
   "outputs": [],
   "source": [
    "def search_company(company, driver):\n",
    "    \"\"\"\n",
    "    Searches the name of a company in the search bar\n",
    "    \"\"\"\n",
    "    company_search_bar = driver.find_element_by_xpath('//*[@id=\"KeywordSearch\"]')\n",
    "    company_search_bar.send_keys(company)\n",
    "    time.sleep(random.uniform(2, 4))\n",
    "    location_search_bar = driver.find_element_by_xpath('//*[@id=\"LocationSearch\"]')\n",
    "    location_search_bar.clear()\n",
    "    time.sleep(random.uniform(2, 4))\n",
    "    company_search_bar.send_keys(Keys.ENTER)\n",
    "    time.sleep(random.uniform(2, 4))\n",
    "\n",
    "    first_result = driver.find_element_by_xpath('//*[@id=\"MainCol\"]/div/div[1]/div/div[1]/div/div[2]/h2/a')\n",
    "    first_result.click()\n",
    "    \n",
    "    time.sleep(random.uniform(2, 4))\n",
    "    url = driver.current_url\n",
    "    return driver"
   ]
  },
  {
   "cell_type": "code",
   "execution_count": 21,
   "id": "440c1d33-cf29-4b65-b476-317e96b471a4",
   "metadata": {},
   "outputs": [],
   "source": [
    "def get_reviews_page(driver):\n",
    "    soup = BeautifulSoup(driver.page_source, 'lxml')\n",
    "    reviews_tag = soup.find('a', {'data-test': 'reviewSeeAllLink'})\n",
    "    url_path = reviews_tag.get('href')\n",
    "    domain = 'https://www.glassdoor.com'\n",
    "    reviews_url = domain + url_path\n",
    "    \n",
    "    #driver.get(reviews_url)\n",
    "    \n",
    "    return driver, reviews_url"
   ]
  },
  {
   "cell_type": "code",
   "execution_count": 73,
   "id": "fdb54038-fcf9-441a-abbe-ba0daef0ea1f",
   "metadata": {},
   "outputs": [],
   "source": [
    "def get_links(status, driver):\n",
    "    for i in range(len(status)):\n",
    "        if pd.isnull(status['link'].iloc[i]):\n",
    "            try:\n",
    "                driver.get('https://www.glassdoor.com/Reviews/index.htm')\n",
    "                driver = search_company(status['companies'].iloc[i], driver)\n",
    "                driver, url = get_reviews_page(driver)\n",
    "                status['link'].iloc[i] = url\n",
    "                status.to_csv('link_status.csv', sep=';')\n",
    "                logging.info(f'Link {status.companies.iloc[i]}: {url}')\n",
    "            except:\n",
    "                status['link'].iloc[i] = '-'\n",
    "                logging.info(f'Unsuccesful attempt for {status.companies.iloc[i]}')\n",
    "        else:\n",
    "            continue\n",
    "            \n",
    "        #if (i%10==0 and i!=0) or i == (len(status)-1):\n",
    "            #status.to_csv('link_status.csv', sep=';')\n",
    "        #else:\n",
    "            #print(i, 'else')\n",
    "            #continue\n",
    "                                             \n",
    "    return driver, status                        "
   ]
  },
  {
   "cell_type": "code",
   "execution_count": 71,
   "id": "e17bdc75-c40c-4de5-b308-df17c74d7d3a",
   "metadata": {},
   "outputs": [],
   "source": [
    "status = read_status()"
   ]
  },
  {
   "cell_type": "code",
   "execution_count": 63,
   "id": "d405ff83-0582-42fb-8181-bff9f10ef1f2",
   "metadata": {},
   "outputs": [],
   "source": [
    "driver = setup_driver_to_reviews_search()"
   ]
  },
  {
   "cell_type": "code",
   "execution_count": 64,
   "id": "dbda5eee-2517-49a0-883b-617731fd36d7",
   "metadata": {},
   "outputs": [],
   "source": [
    "driver = set_site_language(driver)"
   ]
  },
  {
   "cell_type": "code",
   "execution_count": 74,
   "id": "d75718a5-d8e7-4b48-b0e1-f084cd1b7499",
   "metadata": {},
   "outputs": [
    {
     "name": "stdout",
     "output_type": "stream",
     "text": [
      "https://www.glassdoor.com/Reviews/Google-Reviews-E9079.htm\n",
      "https://www.glassdoor.com/Reviews/Deloitte-Reviews-E2763.htm\n",
      "https://www.glassdoor.com/Reviews/PwC-Reviews-E8450.htm\n",
      "https://www.glassdoor.com/Reviews/Meta-Reviews-E40772.htm\n",
      "https://www.glassdoor.com/Reviews/Amazon-Reviews-E6036.htm\n",
      "https://www.glassdoor.com/Reviews/Intel-Corporation-Reviews-E1519.htm\n",
      "https://www.glassdoor.com/Reviews/AMD-Reviews-E15.htm\n",
      "https://www.glassdoor.com/Reviews/HP-Inc-Reviews-E1093161.htm\n",
      "https://www.glassdoor.com/Reviews/Roku-Reviews-E26760.htm\n"
     ]
    }
   ],
   "source": [
    "driver, status = get_links(status, driver)"
   ]
  },
  {
   "cell_type": "markdown",
   "id": "2ba0ee14-94ff-4207-b15e-e7471dd84272",
   "metadata": {
    "tags": []
   },
   "source": [
    "## Specifying regions"
   ]
  },
  {
   "cell_type": "code",
   "execution_count": 12,
   "id": "764b743b-e0dc-46c0-b0b1-4c495270c812",
   "metadata": {},
   "outputs": [],
   "source": [
    "# # If need to specify location\n",
    "# def get_url_by_location(locations, driver):\n",
    "#     \"\"\"\n",
    "#     Adjusts window size because otherwise no scrolling possible\n",
    "#     Selects a location and returns url of the page\n",
    "#     \"\"\"\n",
    "#     driver.set_window_size(1384, 789)\n",
    "#     time.sleep(random.uniform(2, 4))\n",
    "    \n",
    "#     urls = {}\n",
    "#     for location in locations:\n",
    "#         time.sleep(random.uniform(2, 4))\n",
    "#         driver.execute_script(\"window.scrollBy(0, arguments[0]);\", 500)\n",
    "\n",
    "#         filter_button = driver.find_element_by_xpath('//*[@id=\"MainContent\"]/div/div[1]/div[1]/div[1]/div/div[1]/div[2]/div[2]/button/span')\n",
    "#         filter_button.click()\n",
    "#         time.sleep(random.uniform(2, 3))\n",
    "\n",
    "#         location_box = driver.find_element_by_xpath('//*[@id=\"MainContent\"]/div/div[1]/div[1]/div[1]/div/div[1]/div[3]/div[2]/div[1]/div/div[1]')\n",
    "#         location_box.click()\n",
    "#         time.sleep(random.uniform(2, 3))\n",
    "\n",
    "#         location_input = driver.find_element_by_xpath('//*[@id=\"MainContent\"]/div/div[1]/div[1]/div[1]/div/div[1]/div[3]/div[2]/div[1]/div/div[1]/div/div/div/input')\n",
    "#         location_input.send_keys(location)\n",
    "#         time.sleep(random.uniform(1, 2))\n",
    "#         location_input.send_keys(Keys.ARROW_DOWN)\n",
    "#         time.sleep(random.uniform(1, 2))\n",
    "#         location_input.send_keys(Keys.ENTER)\n",
    "\n",
    "#         time.sleep(random.uniform(2, 4))\n",
    "#         urls[location] = driver.current_url\n",
    "#         driver = get_rid_overlay(driver)\n",
    "    \n",
    "#     return driver, urls"
   ]
  },
  {
   "cell_type": "markdown",
   "id": "d8b93c46-3024-4fea-a579-bc585549ea75",
   "metadata": {},
   "source": [
    "## Add filters"
   ]
  },
  {
   "cell_type": "code",
   "execution_count": 13,
   "id": "a5386d83-381b-438d-95e9-ccb9daa3c963",
   "metadata": {},
   "outputs": [],
   "source": [
    "def add_filter(base_url):\n",
    "    \"\"\"\n",
    "    You can use this function to alter the link if you want to change the language \n",
    "    or the job types (intern, full time, etc)\n",
    "    \"\"\"\n",
    "    if base_url != '-': \n",
    "        return base_url + '?filter.iso3Language=eng' #Modify the filter path according to needs\n",
    "    else:\n",
    "        return '-'"
   ]
  },
  {
   "cell_type": "code",
   "execution_count": 77,
   "id": "d8ed66d5-4241-45ce-b9cf-ec881cd89b46",
   "metadata": {},
   "outputs": [],
   "source": [
    "status['link'] = status['link'].map(add_filter)\n",
    "status.to_csv('link_status.csv', sep=';')"
   ]
  }
 ],
 "metadata": {
  "kernelspec": {
   "display_name": "Python 3 (ipykernel)",
   "language": "python",
   "name": "python3"
  },
  "language_info": {
   "codemirror_mode": {
    "name": "ipython",
    "version": 3
   },
   "file_extension": ".py",
   "mimetype": "text/x-python",
   "name": "python",
   "nbconvert_exporter": "python",
   "pygments_lexer": "ipython3",
   "version": "3.9.7"
  }
 },
 "nbformat": 4,
 "nbformat_minor": 5
}
