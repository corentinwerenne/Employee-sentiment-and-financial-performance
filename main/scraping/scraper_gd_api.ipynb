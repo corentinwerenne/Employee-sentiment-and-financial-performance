{
 "cells": [
  {
   "cell_type": "code",
   "execution_count": 1,
   "id": "702e41c9-ec35-4efe-b9ca-206d97d75559",
   "metadata": {},
   "outputs": [],
   "source": [
    "import requests #For requesting html\n",
    "from bs4 import BeautifulSoup #For parsing html\n",
    "import js2py #Transforming javascript code into a dictionary type object\n",
    "import re #For regular expressions\n",
    "import codecs #To convert raw strings to normal ones\n",
    "import json #To convert a string to a dictionary\n",
    "import time"
   ]
  },
  {
   "cell_type": "code",
   "execution_count": 2,
   "id": "9dc1543d-5443-43dc-b0a5-9e76ac37e6dd",
   "metadata": {},
   "outputs": [],
   "source": [
    "url1 = \"https://www.glassdoor.com/Reviews/Deloitte-Reviews-E2763.htm\"\n",
    "url2 = \"https://www.glassdoor.com/Reviews/Deloitte-Reviews-E2763_P2.htm?filter.iso3Language=eng\"\n",
    "\n",
    "payload = \"\"\n",
    "headers = {\n",
    "    'cookie': \"gdId=716a5ba3-f96e-4e4a-9696-182a8aab7ebb; trs=https%3A%2F%2Fwww.google.com%2F:SEO:SEO:2022-02-15+02%3A10%3A13.78:undefined:undefined; indeedCtk=1frudotrru2ai801; g_state={'i_p':1647297724051,'i_l':1}; G_ENABLED_IDPS=google; OptanonAlertBoxClosed=2022-03-17T10:22:36.051Z; _optionalConsent=true; _gcl_au=1.1.2094879639.1648210030; __pdst=17384defbf2949e99ffc1a032fe4a2ca; _rdt_uuid=1648210031907.2d27f171-81ed-4a17-aa1a-c1fa829c5238; _pin_unauth=dWlkPVlXTTVaVFZpTVRjdFlqYzVNaTAwWldSaUxXSXhNVGt0WVdJMVlqZzVaVFEyT0RSaQ; ki_u=1e0b4b0a-c4ad-e388-af4a-bb47; tldp=1; uc=44095BCBCAA84CA8F84166643F6C2693D2272D5CC783689B1E53B92DC51C148DCADB5FB4C4B43797003402C1B43401BD808838C7E1A460C41D06A626B0E6C075F4B349981594BD35F6EE1906F8E1AE52F8C01830571A6C6FDBC2B431E0343DFFFB83086BF5BF9BFFD95DF6A0106E416823BEA1A564E853F07F8703A472826B8F2810F4D8AEA5B44192CEAA2920A1656E; ki_s=218147%3A1.0.0.0.2%3B221866%3A1.0.0.1.2; _tt_enable_cookie=1; _ttp=047e47f9-aa4e-4009-bd8a-195cbaab3698; _biz_uid=21d1ca7026414bee87ab4f0b3752daba; _biz_nA=1; _mkto_trk=id:899-LOT-464&token:_mch-glassdoor.com-1651929802661-18348; _biz_pendingA=%5B%5D; _biz_flagsA=%7B%22Version%22%3A1%2C%22ViewThrough%22%3A%221%22%2C%22XDomain%22%3A%221%22%7D; __gsas=ID=ef5c67843feb22ee:T=1652016512:S=ALNI_ManFXfJn1AoEQmauIv9lXXjWL-0fQ; _gid=GA1.2.1368809912.1652881124; company_data=default; known_by_marketo_email=corentinwerenne@gmail.com; _uetsid=0052af30d6e011ecb12d8b555f79d949; _uetvid=005300e0d6e011ecafa3c133cbb23e07; _gd_visitor=b4144f60-4708-429b-8e37-2664655ba941; _an_uid=-1; _gd_svisitor=a23410609e0b0000d5c320620602000056160d00; _clck=bz0pj5|1|f1k|0; _clsk=rx07cy|1652901813776|1|1|e.clarity.ms/collect; drift_aid=e3e5647c-bfc9-4952-a979-a2d50a8e4223; driftt_aid=e3e5647c-bfc9-4952-a979-a2d50a8e4223; JSESSIONID=5EA56E419D67C10A94D617E76B5B4580; GSESSIONID=716a5ba3-f96e-4e4a-9696-182a8aab7ebb+1652952757504; asst=1652952757.0; __cf_bm=MydrwLOt7jFVnRZk_GKtCTEkRDDahKlb1wMuiVeQoKo-1652952757-0-AeQHIYDMb1uM+vDR5leZhaJUBHgVj4NAcftwShZpwo9Iw1jttfS7prQ9nUGQLKq1ar+ZmsKD2j2XcP9qG3vLjxs=; cass=1; fpvc=1; ki_r=aHR0cHM6Ly9ubC5nbGFzc2Rvb3IuYmUv; gdsid=1652952757504:1652953568058:A24A6F2D8B277619F74343AC34A82CDE; at=inGf5tsAgNJ596das5orrUtM2bgIu9p8Uy4hm-1gIyKKfVegiPDcv6AqO0Jt6khG8YOxsnzK_KU047teMZvbPMwuJdTKsu0v1WjZif_ux_MCYxRm0hRXMwogN1EJ5TMuE_s_ICXo9lWgd-6RevADz7cmjuufwAgaCPPqF9SbcWVQ5AktywhLLC7bF7Ptikgnc2iNEwOObXl7hjnyvweC8XkvKTtrvD7icJQEbRxA5gW-J847fJZcPDWNhbk6c0PpFjHatuhIuHuIkxXlTERpShaJZqCCci5udrtrh7ZBgbWgvgkAW6T2Dpd5KifmncQ8B-dTiA-JUc428LVjyiiJ6EnJzhcbR6QVMxuGcTWoJPczs_Yqy7alUJaxHg3jRU8TJmex8dkZwS46AD3dA-03qk8K5tu9zM0G1aosQcwabCQJcJ8-jz76o_z1p_Y3KjEXeLS7oaL0VdOqc_8qDfJOxKO-9Uh-PGhDHl833hkHIPUltPDDC3-3crdNZLQk5DpfN1MjiwAC76g7Ej0w-fjq7diiNieXUbjaWzYzfrkAhrYVnCLnz8RQX5Yzf23GbgDogBUZONlpbrL13YUUcKqAndbzgp0Zce7UKJuCGjZxGcED9k47TDkxco2tQYkv0uR7ix-TmOzKgtQXcIw1-ipR4-M02w3GdWe4sWm-jTWmMc_x6O5J-jdQX3iBNRF2fP3zhpmd2ZQM5LsnyybqhVsRvV6_L4LfYdABXDA2CUdAK9o8IZ_iOZmSpUsb3wwKK3GzvS3zl97ZVbOpF6rduvJj47m3DlTc4ma_WT-Ei_M7_C32EK3XXsVYwP9QhLRDyIbKiNKPiwn-xGIDOX0LVYf9esbhNHJHNutNgTCvooCHxEA1LySwOxGIZFGSerm5HtGJbbgGKiy1; _ga_RJF0GNZNXE=GS1.1.1652952761.41.1.1652953571.60; _ga=GA1.2.1529387723.1644919850; _ga_RC95PMVB3H=GS1.1.1652952761.41.1.1652953577.54; OptanonConsent=isGpcEnabled=0&datestamp=Thu+May+19+2022+11%3A46%3A17+GMT%2B0200+(Central+European+Summer+Time)&version=6.28.0&isIABGlobal=false&hosts=&consentId=5fd18233-6e62-4a60-a77e-7734f4e8e7c2&interactionCount=2&landingPath=NotLandingPage&groups=C0001%3A1%2CC0003%3A1%2CC0002%3A1%2CC0004%3A1%2CC0017%3A1&AwaitingReconsent=false&geolocation=BE%3BWAL; ki_t=1648403443747%3B1652952775020%3B1652953579551%3B13%3B74; bs=1hI5r4ILn4BKFxg0VOWPJg:EipZifACSzPDz8F16K0_7izJGZh6TTZefqKAkrNYyk5DKJynkaUB5Wglf13VvQsE6PIwhKAXbyNESF2SUzJ-_0gJ2bT0WxoC5em1aCzBQN4:8amRe1hTzm2ukVCD-b4NNSuDzY3Taq6w-24ktn6OctM; AWSALB=E41Z9hdiw1pwVPkd8M6LKdpHVj8WvGdE8DPD+gO1aUa3ZYLWDiKkIlsjmrCQdYcT3SVDGafu+7ey4GE/zeiuB1j6tMmHNfQJvYSdZ0A/UbcZh4euI68jNpooWOoZWRo1Is27e0b748Z6lDZzrG0tBRgMboBEuw9XdMGMcWAXpn1LPgZ/aTwZRmlr74ZLxQ==; AWSALBCORS=E41Z9hdiw1pwVPkd8M6LKdpHVj8WvGdE8DPD+gO1aUa3ZYLWDiKkIlsjmrCQdYcT3SVDGafu+7ey4GE/zeiuB1j6tMmHNfQJvYSdZ0A/UbcZh4euI68jNpooWOoZWRo1Is27e0b748Z6lDZzrG0tBRgMboBEuw9XdMGMcWAXpn1LPgZ/aTwZRmlr74ZLxQ==; ADRUM_BTa=R:24|g:13da068f-0e45-4a71-be2f-6d4bf836ac31|n:glassdoor_17d346a0-2ec1-4454-86b0-73b3b787aee9; SameSite=None; ADRUM_BT1=R:24|i:1484607|e:120|d:239; ADRUM_BT2=R:24|i:1484605|e:135\",\n",
    "    'authority': \"www.glassdoor.com\",\n",
    "    'accept': \"text/html,application/xhtml+xml,application/xml;q=0.9,image/avif,image/webp,image/apng,*/*;q=0.8,application/signed-exchange;v=b3;q=0.9\",\n",
    "    'accept-language': \"fr-FR,fr;q=0.9,en-US;q=0.8,en;q=0.7\",\n",
    "    'cache-control': \"max-age=0\",\n",
    "    'referer': \"https://nl.glassdoor.be/\",\n",
    "    'sec-ch-ua': '\" Not A;Brand\";v=\"99\", \"Chromium\";v=\"101\", \"Google Chrome\";v=\"101\"',\n",
    "    'sec-ch-ua-mobile': \"?0\",\n",
    "    'sec-ch-ua-platform': '\"macOS\"',\n",
    "    'sec-fetch-dest': \"document\",\n",
    "    'sec-fetch-mode': \"navigate\",\n",
    "    'sec-fetch-site': \"same-origin\",\n",
    "    'sec-fetch-user': \"?1\",\n",
    "    'upgrade-insecure-requests': \"1\",\n",
    "    'user-agent': \"Mozilla/5.0 (Macintosh; Intel Mac OS X 10_15_7) AppleWebKit/537.36 (KHTML, like Gecko) Chrome/101.0.4951.64 Safari/537.36\"\n",
    "    }\n",
    "\n",
    "response1 = requests.request(\"GET\", url1, data=payload, headers=headers)\n",
    "time.sleep(4)\n",
    "response2 = requests.request(\"GET\", url2, data=payload, headers=headers)"
   ]
  },
  {
   "cell_type": "code",
   "execution_count": 3,
   "id": "3af1ba30-bb43-4d9c-8132-10f6cd869c8d",
   "metadata": {},
   "outputs": [],
   "source": [
    "#Get text:\n",
    "response1_text = response1.text\n",
    "response2_text = response2.text"
   ]
  },
  {
   "cell_type": "code",
   "execution_count": 4,
   "id": "454e94c6-d03e-4b5b-8173-2a52219343d9",
   "metadata": {},
   "outputs": [],
   "source": [
    "#Convert to raw string:\n",
    "raw_response1 = repr(response1_text) #You can use repr or r'the string' to convert to a raw string meaning it doesn't interpret backslashes like \\n for newline\n",
    "raw_response2 = repr(response2_text)"
   ]
  },
  {
   "cell_type": "markdown",
   "id": "c1eb3605-115e-4c56-b989-3de4eb018d9e",
   "metadata": {},
   "source": [
    "### First method: Regex (fast, efficient and reliable)"
   ]
  },
  {
   "cell_type": "code",
   "execution_count": 5,
   "id": "e0b768a9-448d-4252-b2eb-6d457733158e",
   "metadata": {
    "tags": []
   },
   "outputs": [],
   "source": [
    "#pattern.search returns only the first occurence, otherwise use pattern.finditer()"
   ]
  },
  {
   "cell_type": "code",
   "execution_count": 6,
   "id": "dc4dec97-3e98-473a-ad4e-f26b708a13ea",
   "metadata": {},
   "outputs": [],
   "source": [
    "pattern = re.compile(r'{\\\"__typename\\\":\\\"EmployerReview\\\"[.+?]\\\"translationMethod\\\":.+?}')"
   ]
  },
  {
   "cell_type": "code",
   "execution_count": 7,
   "id": "18cd6957-1af7-447f-9845-6b41b80647ec",
   "metadata": {},
   "outputs": [],
   "source": [
    "matches = pattern.finditer(raw_response1)"
   ]
  },
  {
   "cell_type": "code",
   "execution_count": 8,
   "id": "eff527e6-4bca-4c65-b4bc-ca7d479c3531",
   "metadata": {},
   "outputs": [],
   "source": [
    "reviews = {}\n",
    "for i, match in enumerate(matches):\n",
    "    reviews[i+1] = match.group(0)"
   ]
  },
  {
   "cell_type": "code",
   "execution_count": 9,
   "id": "67d87c70-bfc4-4a9e-946b-04069b777199",
   "metadata": {},
   "outputs": [],
   "source": [
    "# To convert string to dictionary, doesn't work for each review, you have to extract manually with regex\n",
    "first_review = json.loads(reviews[1])"
   ]
  },
  {
   "cell_type": "code",
   "execution_count": 11,
   "id": "83a116e0-0796-4da8-b763-1a9af3c071f9",
   "metadata": {},
   "outputs": [],
   "source": [
    "matches = pattern.finditer(raw_response2)"
   ]
  },
  {
   "cell_type": "code",
   "execution_count": 12,
   "id": "51c43b83-3911-4411-8241-364001f1356d",
   "metadata": {},
   "outputs": [
    {
     "data": {
      "text/plain": [
       "<callable_iterator at 0x7fa78a4892b0>"
      ]
     },
     "execution_count": 12,
     "metadata": {},
     "output_type": "execute_result"
    }
   ],
   "source": [
    "matches"
   ]
  },
  {
   "cell_type": "code",
   "execution_count": 13,
   "id": "aadda810-d5e4-43d4-bb3b-b439d78cce1b",
   "metadata": {},
   "outputs": [],
   "source": [
    "reviews = {}\n",
    "for i, match in enumerate(matches):\n",
    "    reviews[i+1] = match.group(0)"
   ]
  },
  {
   "cell_type": "code",
   "execution_count": 17,
   "id": "a60be664-aef3-4b3b-8ee5-ea20ef1c9c4d",
   "metadata": {},
   "outputs": [],
   "source": [
    "review_keys = ['__typename', 'isLegal', 'reviewId', 'reviewDateTime', \n",
    "               'ratingOverall', 'ratingCeo', 'ratingBusinessOutlook', \n",
    "               'ratingWorkLifeBalance', 'ratingCultureAndValues', \n",
    "               'ratingDiversityAndInclusion', 'ratingSeniorLeadership', \n",
    "               'ratingRecommendToFriend', 'ratingCareerOpportunities', \n",
    "               'ratingCompensationAndBenefits', 'employer', 'isCurrentJob', \n",
    "               'lengthOfEmployment', 'employmentStatus', 'jobEndingYear', \n",
    "               'jobTitle', 'location', 'originalLanguageId', 'pros', 'prosOriginal', \n",
    "               'cons', 'consOriginal', 'summary', 'summaryOriginal', 'advice', \n",
    "               'adviceOriginal', 'isLanguageMismatch', 'countHelpful', \n",
    "               'countNotHelpful', 'employerResponses', 'featured', 'isCovid19', \n",
    "               'divisionName', 'divisionLink', 'links', 'topLevelDomainId', \n",
    "               'languageId', 'translationMethod']"
   ]
  },
  {
   "cell_type": "code",
   "execution_count": 60,
   "id": "c7887d64-e04e-4b1b-9d62-fcf2925ede8a",
   "metadata": {},
   "outputs": [],
   "source": [
    "def extract_from_review(review):\n",
    "    \"\"\"\n",
    "    Expects a review build like a string dictionnary, returns a proper dictionary\n",
    "    \"\"\"\n",
    "    review_id = re.compile(r'\\\"reviewId\\\":(\\d+?),\\\"reviewDateTime\"').search(review).group(1)\n",
    "    review_datetime = re.compile(r'\\\"reviewDateTime\\\":\\\"(.+?)\\\",\\\"ratingOverall\\\"').search(review).group(1)\n",
    "    rating_overall = re.compile(r'\\\"ratingOverall\\\":([0-5]),\\\"ratingCeo\\\"').search(review).group(1)\n",
    "    rating_ceo = re.compile(r'\\\"ratingCeo\\\":\\\"([A-Z]+)\\\",\\\"ratingBusinessOutlook\\\"').search(review).group(1)\n",
    "    rating_businessoutlook = re.compile(r'\\\"ratingBusinessOutlook\\\":\\\"([A-Z]+)\\\",\\\"ratingWorkLifeBalance\\\"').search(review).group(1)\n",
    "    rating_worklife_balance = re.compile(r'\\\"ratingWorkLifeBalance\\\":([0-5]),\\\"ratingCultureAndValues\\\"').search(review).group(1)\n",
    "    rating_culture_values = re.compile(r'\\\"ratingCultureAndValues\\\":([0-5]),\\\"ratingDiversityAndInclusion\\\"').search(review).group(1)\n",
    "    rating_diversity_inclusion = re.compile(r'\\\"ratingDiversityAndInclusion\\\":([0-5]),\\\"ratingSeniorLeadership\\\"').search(review).group(1)\n",
    "    rating_senior_leadership = re.compile(r'\\\"ratingSeniorLeadership\\\":([0-5]),\\\"ratingRecommendToFriend\\\"').search(review).group(1)\n",
    "    rating_recommend_friend = re.compile(r'\\\"ratingRecommendToFriend\\\":\\\"([A-Z]+)\\\",\\\"ratingCareerOpportunities\\\"').search(review).group(1)\n",
    "    rating_career_opport = re.compile(r'\\\"ratingCareerOpportunities\\\":([0-5]),\\\"ratingCompensationAndBenefits\\\"').search(review).group(1)\n",
    "    rating_compensation_benefits = re.compile(r'\\\"ratingCompensationAndBenefits\\\":([0-5]),\\\"employer\\\"').search(review).group(1)\n",
    "    is_current_job = re.compile(r'\\\"isCurrentJob\\\":([a-z]+),\\\"lengthOfEmployment\\\"').search(review).group(1)\n",
    "    length_employment = re.compile(r'\\\"lengthOfEmployment\\\":(\\d+),\\\"employmentStatus\\\"').search(review).group(1)\n",
    "    employment_status = re.compile(r'\"employmentStatus\":\\\"([A-Z]+)\\\",\"jobEndingYear\"').search(review).group(1)\n",
    "    # Probably needs adjustement when a year is provided\n",
    "    job_ending_year = re.compile(r'\"jobEndingYear\":([a-z]+),\"jobTitle\"').search(review).group(1)\n",
    "    pros = re.compile(r'\\\"pros\\\":\\\"(.+?)\\\",\\\"prosOriginal\\\":').search(review).group(1)\n",
    "    cons = re.compile(r'\\\"cons\\\":\\\"(.+?)\\\",\\\"consOriginal\\\":').search(review).group(1)\n",
    "    advice = re.compile(r'\\\"advice\\\":(.+?),\\\"adviceOriginal\\\":').search(review).group(1)\n",
    "    count_helpful = re.compile(r'\\\"countHelpful\\\":(\\d+),\\\"countNotHelpful\\\":').search(review).group(1)\n",
    "    count_nothelpful = re.compile(r'\\\"countNotHelpful\\\":(\\d+),\\\"employerResponses\\\"').search(review).group(1)\n",
    "    employer_reponses = re.compile(r'\\\"employerResponses\\\":(.+?),\\\"featured\\\"').search(review).group(1)\n",
    "    review_id = re.compile(r'\\\"languageId\\\":\\\"([a-z]+)\\\",\\\"translationMethod\\\"').search(review).group(1)\n",
    "    review_id = re.compile(r'\\\"reviewId\\\":(\\d+?),').search(review).group(1)\n",
    "    review_id = re.compile(r'\\\"reviewId\\\":(\\d+?),').search(review).group(1)\n",
    "    review_id = re.compile(r'\\\"reviewId\\\":(\\d+?),').search(review).group(1)\n",
    "    review_id = re.compile(r'\\\"reviewId\\\":(\\d+?),').search(review).group(1)\n",
    "    \n",
    "    \n",
    "    \n",
    "    \n",
    "    return review_id, review_datetime, rating_overall, rating_ceo, rating_businessoutlook"
   ]
  },
  {
   "cell_type": "code",
   "execution_count": null,
   "id": "a2340697-7c35-4bb5-bb39-42c045a172ac",
   "metadata": {},
   "outputs": [],
   "source": [
    "\"ratingCeo\":\"APPROVE\",\"ratingBusinessOutlook\""
   ]
  },
  {
   "cell_type": "code",
   "execution_count": 61,
   "id": "41d88a0b-dc90-47ae-a288-ded35505c8e4",
   "metadata": {},
   "outputs": [
    {
     "data": {
      "text/plain": [
       "('64869640', '2022-05-30T15:19:54.637', '5', 'APPROVE', 'POSITIVE')"
      ]
     },
     "execution_count": 61,
     "metadata": {},
     "output_type": "execute_result"
    }
   ],
   "source": [
    "extract_from_review(reviews[1])"
   ]
  },
  {
   "cell_type": "code",
   "execution_count": null,
   "id": "8eb76778-8b26-4d94-977c-5d027bc098b0",
   "metadata": {},
   "outputs": [],
   "source": []
  },
  {
   "cell_type": "code",
   "execution_count": 24,
   "id": "d8b4b74f-4d0a-4420-a68e-5149b8343c43",
   "metadata": {},
   "outputs": [
    {
     "data": {
      "text/plain": [
       "'{\"__typename\":\"EmployerReview\",\"isLegal\":true,\"reviewId\":64869640,\"reviewDateTime\":\"2022-05-30T15:19:54.637\",\"ratingOverall\":5,\"ratingCeo\":\"APPROVE\",\"ratingBusinessOutlook\":\"POSITIVE\",\"ratingWorkLifeBalance\":2,\"ratingCultureAndValues\":4,\"ratingDiversityAndInclusion\":5,\"ratingSeniorLeadership\":5,\"ratingRecommendToFriend\":\"POSITIVE\",\"ratingCareerOpportunities\":5,\"ratingCompensationAndBenefits\":5,\"employer\":{\"__ref\":\"Employer:2763\"},\"isCurrentJob\":true,\"lengthOfEmployment\":4,\"employmentStatus\":\"REGULAR\",\"jobEndingYear\":null,\"jobTitle\":{\"__ref\":\"JobTitle:17167\"},\"location\":{\"__ref\":\"City:1155583\"},\"originalLanguageId\":null,\"pros\":\"Great place to work . High paying The clients are diverse and you learn a lot. If you stay on track you get promoted every 4 years\",\"prosOriginal\":null,\"cons\":\"Hours and traveling can be grueling\",\"consOriginal\":null,\"summary\":\"Great place to work, long hours\",\"summaryOriginal\":null,\"advice\":null,\"adviceOriginal\":null,\"isLanguageMismatch\":false,\"countHelpful\":0,\"countNotHelpful\":0,\"employerResponses\":[],\"featured\":false,\"isCovid19\":false,\"divisionName\":null,\"divisionLink\":null,\"links\":{\"__typename\":\"EiReviewLinks\",\"reviewDetailUrl\":\"\\\\\\\\u002FReviews\\\\\\\\u002FEmployee-Review-Deloitte-RVW64869640.htm\"},\"topLevelDomainId\":1,\"languageId\":\"eng\",\"translationMethod\":null}'"
      ]
     },
     "execution_count": 24,
     "metadata": {},
     "output_type": "execute_result"
    }
   ],
   "source": [
    "reviews[1]"
   ]
  },
  {
   "cell_type": "code",
   "execution_count": 159,
   "id": "4804bcec-398f-43b9-addc-221d1727d18d",
   "metadata": {},
   "outputs": [
    {
     "data": {
      "text/plain": [
       "'{\"__typename\":\"EmployerReview\",\"isLegal\":true,\"reviewId\":64680636,\"reviewDateTime\":\"2022-05-25T14:46:42.233\",\"ratingOverall\":4,\"ratingCeo\":null,\"ratingBusinessOutlook\":null,\"ratingWorkLifeBalance\":3,\"ratingCultureAndValues\":4,\"ratingDiversityAndInclusion\":4,\"ratingSeniorLeadership\":4,\"ratingRecommendToFriend\":null,\"ratingCareerOpportunities\":5,\"ratingCompensationAndBenefits\":4,\"employer\":{\"__ref\":\"Employer:2763\"},\"isCurrentJob\":true,\"lengthOfEmployment\":20,\"employmentStatus\":\"REGULAR\",\"jobEndingYear\":null,\"jobTitle\":{\"__ref\":\"JobTitle:3966098\"},\"location\":{\"__ref\":\"City:1154532\"},\"originalLanguageId\":null,\"pros\":\"Launchpad for a great career, good pay amongst the Big 4, great brand, opportunity to learn things end to end through various areas of ypur interest (industry, tech, sales)\",\"prosOriginal\":null,\"cons\":\"Burnout especially if you stick around for a while\",\"consOriginal\":null,\"summary\":\"Great place to start your career\",\"summaryOriginal\":null,\"advice\":\"Need to find a way to stick to 40-45 hours\\\\\\\\u002Fweek to retain the #1 talent and to improve work life balance\",\"adviceOriginal\":null,\"isLanguageMismatch\":false,\"countHelpful\":0,\"countNotHelpful\":0,\"employerResponses\":[],\"featured\":false,\"isCovid19\":false,\"divisionName\":null,\"divisionLink\":null,\"links\":{\"__typename\":\"EiReviewLinks\",\"reviewDetailUrl\":\"\\\\\\\\u002FReviews\\\\\\\\u002FEmployee-Review-Deloitte-RVW64680636.htm\"},\"topLevelDomainId\":1,\"languageId\":\"eng\",\"translationMethod\":null}'"
      ]
     },
     "execution_count": 159,
     "metadata": {},
     "output_type": "execute_result"
    }
   ],
   "source": [
    "reviews[2]"
   ]
  },
  {
   "cell_type": "code",
   "execution_count": null,
   "id": "67f189d3-e329-4687-96a3-51205c4c08d2",
   "metadata": {},
   "outputs": [],
   "source": []
  },
  {
   "cell_type": "code",
   "execution_count": null,
   "id": "faff3c9b-3aa3-44da-b521-3d5ee97e2ddc",
   "metadata": {},
   "outputs": [],
   "source": []
  },
  {
   "cell_type": "code",
   "execution_count": null,
   "id": "1e9857ca-51af-4635-88a4-840d822de786",
   "metadata": {},
   "outputs": [],
   "source": []
  },
  {
   "cell_type": "code",
   "execution_count": null,
   "id": "83482dca-11f0-4c38-a467-0336ebc236d2",
   "metadata": {},
   "outputs": [],
   "source": []
  },
  {
   "cell_type": "code",
   "execution_count": 14,
   "id": "d2cb2bba-2d83-4042-8ad0-766a27037aeb",
   "metadata": {},
   "outputs": [],
   "source": [
    "#Voilà le max que j'arrive à isoler avec bs4\n",
    "soup = BeautifulSoup(response.text, 'lxml')\n",
    "scripts = soup.find_all('script')"
   ]
  },
  {
   "cell_type": "code",
   "execution_count": 15,
   "id": "a94a28f2-1c03-49c4-acae-60590879fe64",
   "metadata": {},
   "outputs": [],
   "source": [
    "#response.text"
   ]
  },
  {
   "cell_type": "code",
   "execution_count": 16,
   "id": "71d6c401-7f72-44e0-9d99-df977a6bcda8",
   "metadata": {},
   "outputs": [],
   "source": [
    "for script in scripts:\n",
    "    if 'ROOT_QUERY' in script.text:\n",
    "        query = script.text\n",
    "        break\n",
    "    else:\n",
    "        continue"
   ]
  },
  {
   "cell_type": "code",
   "execution_count": 17,
   "id": "682089ab-52ed-4649-be64-35d9961bdf87",
   "metadata": {},
   "outputs": [],
   "source": [
    "f_query = js2py.eval_js(query)"
   ]
  },
  {
   "cell_type": "code",
   "execution_count": 11,
   "id": "651d799c-fed8-48db-94da-ec0149b6c21e",
   "metadata": {},
   "outputs": [],
   "source": [
    "#f_query['apolloState']['ROOT_QUERY']"
   ]
  },
  {
   "cell_type": "code",
   "execution_count": 6,
   "id": "a4d4b039-6aaa-4661-ba75-81d1788fd750",
   "metadata": {},
   "outputs": [],
   "source": [
    "f_query['apolloState']['ROOT_QUERY']['employerReviews']"
   ]
  },
  {
   "cell_type": "code",
   "execution_count": 7,
   "id": "df3cf508-0ff3-4dfb-b091-b5bb64d3492c",
   "metadata": {},
   "outputs": [],
   "source": [
    "for key in f_query['apolloState']['ROOT_QUERY']:\n",
    "    if 'employerReviews' in key:\n",
    "        reviews = f_query['apolloState']['ROOT_QUERY'][key]\n",
    "        break\n",
    "    else:\n",
    "        continue"
   ]
  },
  {
   "cell_type": "code",
   "execution_count": null,
   "id": "19a6fe3d-d56c-49ba-a578-ef26bdbdd135",
   "metadata": {},
   "outputs": [],
   "source": [
    "focus_reviews"
   ]
  },
  {
   "cell_type": "code",
   "execution_count": 8,
   "id": "9d269fbc-e7e0-438a-8112-608bb2a8c28c",
   "metadata": {},
   "outputs": [],
   "source": [
    "focus_reviews = reviews['reviews']"
   ]
  },
  {
   "cell_type": "code",
   "execution_count": 9,
   "id": "23549eec-2540-4fe0-9824-12452a0642c8",
   "metadata": {},
   "outputs": [
    {
     "data": {
      "text/plain": [
       "10"
      ]
     },
     "execution_count": 9,
     "metadata": {},
     "output_type": "execute_result"
    }
   ],
   "source": [
    "len(focus_reviews) # THOSE ARE THE FREAKING REVIEWZZZZZ"
   ]
  },
  {
   "cell_type": "code",
   "execution_count": 10,
   "id": "ab148403-e27c-4f55-aa31-f94a3f7f99db",
   "metadata": {},
   "outputs": [
    {
     "data": {
      "text/plain": [
       "'Too much of travel time'"
      ]
     },
     "execution_count": 10,
     "metadata": {},
     "output_type": "execute_result"
    }
   ],
   "source": [
    "focus_reviews[0]['cons']"
   ]
  },
  {
   "cell_type": "code",
   "execution_count": null,
   "id": "a7681556-f4f5-4926-8940-3a730142f46d",
   "metadata": {},
   "outputs": [],
   "source": [
    "[i for i in focus_reviews[1]]"
   ]
  },
  {
   "cell_type": "code",
   "execution_count": null,
   "id": "e5d15426-10bc-4262-913e-c39f5c285a69",
   "metadata": {},
   "outputs": [],
   "source": []
  }
 ],
 "metadata": {
  "kernelspec": {
   "display_name": "Python 3 (ipykernel)",
   "language": "python",
   "name": "python3"
  },
  "language_info": {
   "codemirror_mode": {
    "name": "ipython",
    "version": 3
   },
   "file_extension": ".py",
   "mimetype": "text/x-python",
   "name": "python",
   "nbconvert_exporter": "python",
   "pygments_lexer": "ipython3",
   "version": "3.9.7"
  }
 },
 "nbformat": 4,
 "nbformat_minor": 5
}
