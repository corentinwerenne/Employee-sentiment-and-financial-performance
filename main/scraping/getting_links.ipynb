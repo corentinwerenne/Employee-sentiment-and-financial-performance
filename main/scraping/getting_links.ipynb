{
 "cells": [
  {
   "cell_type": "markdown",
   "id": "c00bf7b7-5549-4bce-a043-012e73a7f929",
   "metadata": {},
   "source": [
    "## The idea: \n",
    "First we will want to get all the links we want. Meaning that for each company and each region we want a base link. Other filters can simply be obtained from modifying these base links."
   ]
  },
  {
   "cell_type": "markdown",
   "id": "57eebf23-9528-4fe2-98e7-1cda0deb991f",
   "metadata": {},
   "source": [
    "## Installing the necessary packages & driver\n",
    "As specific python packages we will need selenium which allow us to automate a webbrowser and beautifulsoup which is a classic html parser. This can easily be done with pip or conda. We are also going to need a driver which will be the browser we are going to automate. The links to install the driver can be found here: https://selenium-python.readthedocs.io/installation.html\n",
    "\n",
    "Note: Be careful to install the driver and the version corresponding to your working browser. To know what google version you are using go to help>about google chrome "
   ]
  },
  {
   "cell_type": "markdown",
   "id": "a7d158ac-6b66-4142-98bc-23531bb32269",
   "metadata": {},
   "source": [
    "## Setup"
   ]
  },
  {
   "cell_type": "code",
   "execution_count": 53,
   "id": "ee16bfaf-348f-4ed1-8396-dfa5ec51b10c",
   "metadata": {},
   "outputs": [],
   "source": [
    "# Imports\n",
    "from selenium import webdriver\n",
    "from bs4 import BeautifulSoup\n",
    "from selenium.webdriver.common.keys import Keys\n",
    "from selenium.webdriver.common.action_chains import ActionChains\n",
    "from selenium.common.exceptions import NoSuchElementException, ElementClickInterceptedException, ElementNotInteractableException, WebDriverException\n",
    "\n",
    "import logging\n",
    "import re\n",
    "import random\n",
    "import time\n",
    "import pandas as pd"
   ]
  },
  {
   "cell_type": "code",
   "execution_count": 5,
   "id": "847b0585-f8cc-436a-b460-4630be498d54",
   "metadata": {},
   "outputs": [],
   "source": [
    "def get_rid_overlay(driver):\n",
    "    \"\"\"\n",
    "    Sometimes the site shows an overlay that cannot be removed by clicking, which blocks interaction with the site,\n",
    "    this is some code to remove it.\n",
    "    \"\"\"\n",
    "    driver.execute_script(\"\"\"\n",
    "        javascript:(function(){\n",
    "          document.getElementsByClassName('hardsellOverlay')[0].remove();\n",
    "          document.getElementsByTagName(\"body\")[0].style.overflow = \"scroll\";\n",
    "          let style = document.createElement('style');\n",
    "          style.innerHTML = `\n",
    "            #LoginModal {\n",
    "              display: none!important;\n",
    "            }\n",
    "          `;\n",
    "          document.head.appendChild(style);\n",
    "          window.addEventListener(\"scroll\", function (event) {\n",
    "            event.stopPropagation();\n",
    "          }, true);\n",
    "        })();\n",
    "        \"\"\")\n",
    "    return driver"
   ]
  },
  {
   "cell_type": "code",
   "execution_count": 6,
   "id": "ab71491e-458a-428c-92fd-97c6d2ff1f5f",
   "metadata": {},
   "outputs": [],
   "source": [
    "def setup_driver_to_reviews_search():\n",
    "    \"\"\"\n",
    "    Launches driver, sets window size and implicit wait\n",
    "    \"\"\"\n",
    "    driver = webdriver.Chrome('/Users/corentin/OneDrive - Universite de Liege/chromedriver_2')\n",
    "    time.sleep(3)\n",
    "    driver.set_window_size(1280, 800)\n",
    "    driver.implicitly_wait(20)\n",
    "    driver.get('https://www.glassdoor.com/Reviews/index.htm')\n",
    "    return driver"
   ]
  },
  {
   "cell_type": "code",
   "execution_count": 7,
   "id": "572e4117-3db6-4100-9c2c-7c51e5f16402",
   "metadata": {},
   "outputs": [],
   "source": [
    "# Set site language to us\n",
    "def set_site_language(driver):\n",
    "    time.sleep(random.uniform(2, 4))\n",
    "    # Scroll to the bottom of the page\n",
    "    driver.execute_script('window.scrollTo(0, document.body.scrollHeight)')\n",
    "    time.sleep(random.uniform(2, 4))\n",
    "    \n",
    "    # Find the box for language choice and click on it\n",
    "    language_choice = driver.find_element_by_xpath('//*[@id=\"Footer\"]/nav/ul[2]/li[3]/div/div/div[1]')\n",
    "    language_choice.click()\n",
    "    \n",
    "    # Parse the html of the page and find the choices of language, click on united states\n",
    "    soup = BeautifulSoup(driver.page_source, 'lxml')\n",
    "    language_click_box = soup.find('div', class_='dropdownOptions dropdownExpanded animated above')\n",
    "    for li in language_click_box.find_all('li'):\n",
    "        country = li.find_all('span')[1].string\n",
    "        if country == 'United States':\n",
    "            us_id = li.get('id')\n",
    "            break\n",
    "    us = driver.find_element_by_id(us_id)\n",
    "    time.sleep(random.uniform(2, 4))\n",
    "    us.click()\n",
    "    time.sleep(random.uniform(2, 4))\n",
    "    return driver"
   ]
  },
  {
   "cell_type": "markdown",
   "id": "cea79c39-931e-4fa3-9786-102258e73e08",
   "metadata": {},
   "source": [
    "## Looking for the companies"
   ]
  },
  {
   "cell_type": "code",
   "execution_count": 8,
   "id": "43f00e51-2a23-40f3-b1ec-5b7c48827e18",
   "metadata": {},
   "outputs": [],
   "source": [
    "def search_company(company, driver):\n",
    "    \"\"\"\n",
    "    Searches the name of a company in the search bar\n",
    "    \"\"\"\n",
    "    search_bar = driver.find_element_by_xpath('//*[@id=\"KeywordSearch\"]')\n",
    "    search_bar.send_keys(company)\n",
    "    search_bar.send_keys(Keys.ENTER)\n",
    "    \n",
    "    try:\n",
    "        first_result = driver.find_element_by_xpath('//*[@id=\"MainCol\"]/div/div[1]/div/div[1]/div/div[2]/h2/a')\n",
    "        first_result.click()\n",
    "    except:\n",
    "        print(f'{company} not found')\n",
    "    return driver"
   ]
  },
  {
   "cell_type": "code",
   "execution_count": 9,
   "id": "440c1d33-cf29-4b65-b476-317e96b471a4",
   "metadata": {},
   "outputs": [],
   "source": [
    "def get_reviews_page(driver):\n",
    "    soup = BeautifulSoup(driver.page_source, 'lxml')\n",
    "    reviews_tag = soup.find('a', {'data-test': 'reviewSeeAllLink'})\n",
    "    url_path = reviews_tag.get('href')\n",
    "    domain = 'https://www.glassdoor.com'\n",
    "    reviews_url = domain + url_path\n",
    "    \n",
    "    driver.get(reviews_url)\n",
    "    \n",
    "    return driver"
   ]
  },
  {
   "cell_type": "markdown",
   "id": "2ba0ee14-94ff-4207-b15e-e7471dd84272",
   "metadata": {},
   "source": [
    "## Specifying regions"
   ]
  },
  {
   "cell_type": "code",
   "execution_count": 31,
   "id": "764b743b-e0dc-46c0-b0b1-4c495270c812",
   "metadata": {},
   "outputs": [],
   "source": [
    "# If need to specify location\n",
    "def get_url_by_location(locations, driver):\n",
    "    \"\"\"\n",
    "    Adjusts window size because otherwise no scrolling possible\n",
    "    Selects a location and returns url of the page\n",
    "    \"\"\"\n",
    "    driver.set_window_size(1384, 789)\n",
    "    time.sleep(random.uniform(2, 4))\n",
    "    \n",
    "    urls = {}\n",
    "    for location in locations:\n",
    "        time.sleep(random.uniform(2, 4))\n",
    "        driver.execute_script(\"window.scrollBy(0, arguments[0]);\", 500)\n",
    "\n",
    "        filter_button = driver.find_element_by_xpath('//*[@id=\"MainContent\"]/div/div[1]/div[1]/div[1]/div/div[1]/div[2]/div[2]/button/span')\n",
    "        filter_button.click()\n",
    "        time.sleep(random.uniform(2, 3))\n",
    "\n",
    "        location_box = driver.find_element_by_xpath('//*[@id=\"MainContent\"]/div/div[1]/div[1]/div[1]/div/div[1]/div[3]/div[2]/div[1]/div/div[1]')\n",
    "        location_box.click()\n",
    "        time.sleep(random.uniform(2, 3))\n",
    "\n",
    "        location_input = driver.find_element_by_xpath('//*[@id=\"MainContent\"]/div/div[1]/div[1]/div[1]/div/div[1]/div[3]/div[2]/div[1]/div/div[1]/div/div/div/input')\n",
    "        location_input.send_keys(location)\n",
    "        time.sleep(random.uniform(1, 2))\n",
    "        location_input.send_keys(Keys.ARROW_DOWN)\n",
    "        time.sleep(random.uniform(1, 2))\n",
    "        location_input.send_keys(Keys.ENTER)\n",
    "\n",
    "        time.sleep(random.uniform(2, 4))\n",
    "        urls[location] = driver.current_url\n",
    "        driver = get_rid_overlay(driver)\n",
    "    \n",
    "    return driver, urls"
   ]
  },
  {
   "cell_type": "code",
   "execution_count": 137,
   "id": "93b32be9-5250-4cfd-b9d0-9eea9b356aa8",
   "metadata": {},
   "outputs": [],
   "source": [
    "urls = {\n",
    "    'netherlands': 'https://www.glassdoor.com/Reviews/PwC-Netherlands-Reviews-EI_IE8450.0,3_IL.4,15_IN178.htm?filter.iso3Language=eng&filter.employmentStatus=REGULAR&filter.employmentStatus=PART_TIME',\n",
    "    'belgium': 'https://www.glassdoor.com/Reviews/PwC-Belgium-Reviews-EI_IE8450.0,3_IL.4,11_IN25.htm?filter.iso3Language=eng&filter.employmentStatus=REGULAR&filter.employmentStatus=PART_TIME'\n",
    "}"
   ]
  },
  {
   "cell_type": "code",
   "execution_count": 15,
   "id": "a5386d83-381b-438d-95e9-ccb9daa3c963",
   "metadata": {},
   "outputs": [],
   "source": [
    "def add_filter(urls, filter_path):\n",
    "    \"\"\"\n",
    "    You can use this function to alter the link if you want to change the language \n",
    "    or the job types (intern, full time, etc)\n",
    "    \"\"\"\n",
    "    general_url = re.compile(r'(https://www\\.glassdoor\\.com.+?\\.htm)\\?filter')\n",
    "    for key, value in urls.items():\n",
    "        raw_url = general_url.search(repr(urls[key])).group(1)\n",
    "        filtered_url = raw_url + filter_path\n",
    "        urls[key] = filtered_url\n",
    "        \n",
    "    return urls"
   ]
  },
  {
   "cell_type": "code",
   "execution_count": 138,
   "id": "a4f1606a-92c2-4681-8da4-d00ece4cd76d",
   "metadata": {},
   "outputs": [],
   "source": [
    "urls = add_filter(urls, '?filter.iso3Language=eng&filter.employmentStatus=REGULAR&filter.employmentStatus=PART_TIME&filter.employmentStatus=INTERN')"
   ]
  },
  {
   "cell_type": "code",
   "execution_count": null,
   "id": "edc83347-7c34-4a51-b55b-7ca48c1e77ae",
   "metadata": {},
   "outputs": [],
   "source": []
  },
  {
   "cell_type": "code",
   "execution_count": 20,
   "id": "d405ff83-0582-42fb-8181-bff9f10ef1f2",
   "metadata": {},
   "outputs": [],
   "source": [
    "driver = setup_driver_to_reviews_search()"
   ]
  },
  {
   "cell_type": "code",
   "execution_count": 21,
   "id": "dbda5eee-2517-49a0-883b-617731fd36d7",
   "metadata": {},
   "outputs": [],
   "source": [
    "driver = set_site_language(driver)"
   ]
  },
  {
   "cell_type": "code",
   "execution_count": 24,
   "id": "12f78641-dc02-4a74-9703-851659dea9bf",
   "metadata": {},
   "outputs": [],
   "source": [
    "driver = search_company('pwc', driver)"
   ]
  },
  {
   "cell_type": "code",
   "execution_count": 25,
   "id": "b3442360-204f-44e2-be53-53d5156546bb",
   "metadata": {},
   "outputs": [],
   "source": [
    "driver = get_reviews_page(driver)"
   ]
  },
  {
   "cell_type": "code",
   "execution_count": 32,
   "id": "b9bf9f17-e95a-4439-a8fa-024b21235cfb",
   "metadata": {},
   "outputs": [],
   "source": [
    "driver = get_rid_overlay(driver)"
   ]
  },
  {
   "cell_type": "code",
   "execution_count": 33,
   "id": "242f09ad-7987-43b4-bc53-2ac81dcd91e8",
   "metadata": {},
   "outputs": [
    {
     "ename": "JavascriptException",
     "evalue": "Message: javascript error: Cannot read properties of undefined (reading 'remove')\n  (Session info: chrome=102.0.5005.115)\n",
     "output_type": "error",
     "traceback": [
      "\u001b[0;31m---------------------------------------------------------------------------\u001b[0m",
      "\u001b[0;31mJavascriptException\u001b[0m                       Traceback (most recent call last)",
      "\u001b[0;32m/var/folders/75/_lpdck312plbd86wrgx53dbc0000gn/T/ipykernel_1132/1540067792.py\u001b[0m in \u001b[0;36m<module>\u001b[0;34m\u001b[0m\n\u001b[0;32m----> 1\u001b[0;31m \u001b[0mdriver\u001b[0m\u001b[0;34m,\u001b[0m \u001b[0murls\u001b[0m \u001b[0;34m=\u001b[0m \u001b[0mget_url_by_location\u001b[0m\u001b[0;34m(\u001b[0m\u001b[0;34m[\u001b[0m\u001b[0;34m'netherlands'\u001b[0m\u001b[0;34m,\u001b[0m \u001b[0;34m'belgium'\u001b[0m\u001b[0;34m]\u001b[0m\u001b[0;34m,\u001b[0m \u001b[0mdriver\u001b[0m\u001b[0;34m)\u001b[0m\u001b[0;34m\u001b[0m\u001b[0;34m\u001b[0m\u001b[0m\n\u001b[0m",
      "\u001b[0;32m/var/folders/75/_lpdck312plbd86wrgx53dbc0000gn/T/ipykernel_1132/2696487386.py\u001b[0m in \u001b[0;36mget_url_by_location\u001b[0;34m(locations, driver)\u001b[0m\n\u001b[1;32m     30\u001b[0m         \u001b[0mtime\u001b[0m\u001b[0;34m.\u001b[0m\u001b[0msleep\u001b[0m\u001b[0;34m(\u001b[0m\u001b[0mrandom\u001b[0m\u001b[0;34m.\u001b[0m\u001b[0muniform\u001b[0m\u001b[0;34m(\u001b[0m\u001b[0;36m2\u001b[0m\u001b[0;34m,\u001b[0m \u001b[0;36m4\u001b[0m\u001b[0;34m)\u001b[0m\u001b[0;34m)\u001b[0m\u001b[0;34m\u001b[0m\u001b[0;34m\u001b[0m\u001b[0m\n\u001b[1;32m     31\u001b[0m         \u001b[0murls\u001b[0m\u001b[0;34m[\u001b[0m\u001b[0mlocation\u001b[0m\u001b[0;34m]\u001b[0m \u001b[0;34m=\u001b[0m \u001b[0mdriver\u001b[0m\u001b[0;34m.\u001b[0m\u001b[0mcurrent_url\u001b[0m\u001b[0;34m\u001b[0m\u001b[0;34m\u001b[0m\u001b[0m\n\u001b[0;32m---> 32\u001b[0;31m         \u001b[0mdriver\u001b[0m \u001b[0;34m=\u001b[0m \u001b[0mget_rid_overlay\u001b[0m\u001b[0;34m(\u001b[0m\u001b[0mdriver\u001b[0m\u001b[0;34m)\u001b[0m\u001b[0;34m\u001b[0m\u001b[0;34m\u001b[0m\u001b[0m\n\u001b[0m\u001b[1;32m     33\u001b[0m         \u001b[0;31m# except:\u001b[0m\u001b[0;34m\u001b[0m\u001b[0;34m\u001b[0m\u001b[0m\n\u001b[1;32m     34\u001b[0m         \u001b[0;31m#     urls[location] = ''\u001b[0m\u001b[0;34m\u001b[0m\u001b[0;34m\u001b[0m\u001b[0m\n",
      "\u001b[0;32m/var/folders/75/_lpdck312plbd86wrgx53dbc0000gn/T/ipykernel_1132/4093964608.py\u001b[0m in \u001b[0;36mget_rid_overlay\u001b[0;34m(driver)\u001b[0m\n\u001b[1;32m      4\u001b[0m     \u001b[0mthis\u001b[0m \u001b[0;32mis\u001b[0m \u001b[0msome\u001b[0m \u001b[0mcode\u001b[0m \u001b[0mto\u001b[0m \u001b[0mremove\u001b[0m \u001b[0mit\u001b[0m\u001b[0;34m.\u001b[0m\u001b[0;34m\u001b[0m\u001b[0;34m\u001b[0m\u001b[0m\n\u001b[1;32m      5\u001b[0m     \"\"\"\n\u001b[0;32m----> 6\u001b[0;31m     driver.execute_script(\"\"\"\n\u001b[0m\u001b[1;32m      7\u001b[0m         javascript:(function(){\n\u001b[1;32m      8\u001b[0m           \u001b[0mdocument\u001b[0m\u001b[0;34m.\u001b[0m\u001b[0mgetElementsByClassName\u001b[0m\u001b[0;34m(\u001b[0m\u001b[0;34m'hardsellOverlay'\u001b[0m\u001b[0;34m)\u001b[0m\u001b[0;34m[\u001b[0m\u001b[0;36m0\u001b[0m\u001b[0;34m]\u001b[0m\u001b[0;34m.\u001b[0m\u001b[0mremove\u001b[0m\u001b[0;34m(\u001b[0m\u001b[0;34m)\u001b[0m\u001b[0;34m;\u001b[0m\u001b[0;34m\u001b[0m\u001b[0;34m\u001b[0m\u001b[0m\n",
      "\u001b[0;32m~/opt/anaconda3/lib/python3.9/site-packages/selenium/webdriver/remote/webdriver.py\u001b[0m in \u001b[0;36mexecute_script\u001b[0;34m(self, script, *args)\u001b[0m\n\u001b[1;32m    632\u001b[0m             \u001b[0mcommand\u001b[0m \u001b[0;34m=\u001b[0m \u001b[0mCommand\u001b[0m\u001b[0;34m.\u001b[0m\u001b[0mEXECUTE_SCRIPT\u001b[0m\u001b[0;34m\u001b[0m\u001b[0;34m\u001b[0m\u001b[0m\n\u001b[1;32m    633\u001b[0m \u001b[0;34m\u001b[0m\u001b[0m\n\u001b[0;32m--> 634\u001b[0;31m         return self.execute(command, {\n\u001b[0m\u001b[1;32m    635\u001b[0m             \u001b[0;34m'script'\u001b[0m\u001b[0;34m:\u001b[0m \u001b[0mscript\u001b[0m\u001b[0;34m,\u001b[0m\u001b[0;34m\u001b[0m\u001b[0;34m\u001b[0m\u001b[0m\n\u001b[1;32m    636\u001b[0m             'args': converted_args})['value']\n",
      "\u001b[0;32m~/opt/anaconda3/lib/python3.9/site-packages/selenium/webdriver/remote/webdriver.py\u001b[0m in \u001b[0;36mexecute\u001b[0;34m(self, driver_command, params)\u001b[0m\n\u001b[1;32m    319\u001b[0m         \u001b[0mresponse\u001b[0m \u001b[0;34m=\u001b[0m \u001b[0mself\u001b[0m\u001b[0;34m.\u001b[0m\u001b[0mcommand_executor\u001b[0m\u001b[0;34m.\u001b[0m\u001b[0mexecute\u001b[0m\u001b[0;34m(\u001b[0m\u001b[0mdriver_command\u001b[0m\u001b[0;34m,\u001b[0m \u001b[0mparams\u001b[0m\u001b[0;34m)\u001b[0m\u001b[0;34m\u001b[0m\u001b[0;34m\u001b[0m\u001b[0m\n\u001b[1;32m    320\u001b[0m         \u001b[0;32mif\u001b[0m \u001b[0mresponse\u001b[0m\u001b[0;34m:\u001b[0m\u001b[0;34m\u001b[0m\u001b[0;34m\u001b[0m\u001b[0m\n\u001b[0;32m--> 321\u001b[0;31m             \u001b[0mself\u001b[0m\u001b[0;34m.\u001b[0m\u001b[0merror_handler\u001b[0m\u001b[0;34m.\u001b[0m\u001b[0mcheck_response\u001b[0m\u001b[0;34m(\u001b[0m\u001b[0mresponse\u001b[0m\u001b[0;34m)\u001b[0m\u001b[0;34m\u001b[0m\u001b[0;34m\u001b[0m\u001b[0m\n\u001b[0m\u001b[1;32m    322\u001b[0m             response['value'] = self._unwrap_value(\n\u001b[1;32m    323\u001b[0m                 response.get('value', None))\n",
      "\u001b[0;32m~/opt/anaconda3/lib/python3.9/site-packages/selenium/webdriver/remote/errorhandler.py\u001b[0m in \u001b[0;36mcheck_response\u001b[0;34m(self, response)\u001b[0m\n\u001b[1;32m    240\u001b[0m                 \u001b[0malert_text\u001b[0m \u001b[0;34m=\u001b[0m \u001b[0mvalue\u001b[0m\u001b[0;34m[\u001b[0m\u001b[0;34m'alert'\u001b[0m\u001b[0;34m]\u001b[0m\u001b[0;34m.\u001b[0m\u001b[0mget\u001b[0m\u001b[0;34m(\u001b[0m\u001b[0;34m'text'\u001b[0m\u001b[0;34m)\u001b[0m\u001b[0;34m\u001b[0m\u001b[0;34m\u001b[0m\u001b[0m\n\u001b[1;32m    241\u001b[0m             \u001b[0;32mraise\u001b[0m \u001b[0mexception_class\u001b[0m\u001b[0;34m(\u001b[0m\u001b[0mmessage\u001b[0m\u001b[0;34m,\u001b[0m \u001b[0mscreen\u001b[0m\u001b[0;34m,\u001b[0m \u001b[0mstacktrace\u001b[0m\u001b[0;34m,\u001b[0m \u001b[0malert_text\u001b[0m\u001b[0;34m)\u001b[0m\u001b[0;34m\u001b[0m\u001b[0;34m\u001b[0m\u001b[0m\n\u001b[0;32m--> 242\u001b[0;31m         \u001b[0;32mraise\u001b[0m \u001b[0mexception_class\u001b[0m\u001b[0;34m(\u001b[0m\u001b[0mmessage\u001b[0m\u001b[0;34m,\u001b[0m \u001b[0mscreen\u001b[0m\u001b[0;34m,\u001b[0m \u001b[0mstacktrace\u001b[0m\u001b[0;34m)\u001b[0m\u001b[0;34m\u001b[0m\u001b[0;34m\u001b[0m\u001b[0m\n\u001b[0m\u001b[1;32m    243\u001b[0m \u001b[0;34m\u001b[0m\u001b[0m\n\u001b[1;32m    244\u001b[0m     \u001b[0;32mdef\u001b[0m \u001b[0m_value_or_default\u001b[0m\u001b[0;34m(\u001b[0m\u001b[0mself\u001b[0m\u001b[0;34m,\u001b[0m \u001b[0mobj\u001b[0m\u001b[0;34m,\u001b[0m \u001b[0mkey\u001b[0m\u001b[0;34m,\u001b[0m \u001b[0mdefault\u001b[0m\u001b[0;34m)\u001b[0m\u001b[0;34m:\u001b[0m\u001b[0;34m\u001b[0m\u001b[0;34m\u001b[0m\u001b[0m\n",
      "\u001b[0;31mJavascriptException\u001b[0m: Message: javascript error: Cannot read properties of undefined (reading 'remove')\n  (Session info: chrome=102.0.5005.115)\n"
     ]
    }
   ],
   "source": [
    "driver, urls = get_url_by_location(['netherlands', 'belgium'], driver)"
   ]
  },
  {
   "cell_type": "code",
   "execution_count": 30,
   "id": "6186bfe3-1800-4a50-b604-25266756f87c",
   "metadata": {},
   "outputs": [
    {
     "data": {
      "text/plain": [
       "{'netherlands': '', 'belgium': ''}"
      ]
     },
     "execution_count": 30,
     "metadata": {},
     "output_type": "execute_result"
    }
   ],
   "source": [
    "urls"
   ]
  },
  {
   "cell_type": "code",
   "execution_count": null,
   "id": "0cc7a144-6171-4787-b248-0b3d5395be63",
   "metadata": {},
   "outputs": [],
   "source": []
  },
  {
   "cell_type": "code",
   "execution_count": null,
   "id": "a93b70fa-8159-4b8a-b8c8-06de1506f1c1",
   "metadata": {},
   "outputs": [],
   "source": []
  },
  {
   "cell_type": "code",
   "execution_count": null,
   "id": "7d5849ce-e485-44bc-b0af-3217ff4ec3e5",
   "metadata": {},
   "outputs": [],
   "source": []
  },
  {
   "cell_type": "code",
   "execution_count": 18,
   "id": "08cdf245-fc9a-4770-9ae7-84d1b8a07ea6",
   "metadata": {},
   "outputs": [],
   "source": [
    "def get_urls(companies, locations, filter_path):\n",
    "    # Setup driver\n",
    "    driver = setup_driver_to_reviews_search()\n",
    "    \n",
    "    # Changes language site to english\n",
    "    driver = set_site_language(driver)\n",
    "    \n",
    "    # Gets urls\n",
    "    company_urls = {}\n",
    "    for company in companies:\n",
    "        driver = search_company(company, driver)\n",
    "        driver = get_reviews_page(driver)\n",
    "        time.sleep(random.uniform(3, 4))\n",
    "        driver = get_rid_overlay(driver)\n",
    "        driver, urls = get_url_by_location(locations, driver)\n",
    "        print(urls)\n",
    "        urls = add_filter(urls, filter_path)\n",
    "        print(urls)\n",
    "        company_urls[company] = urls\n",
    "        \n",
    "    return company_urls"
   ]
  },
  {
   "cell_type": "code",
   "execution_count": 19,
   "id": "55ed2572-e4da-4a0b-8eac-3501274aa634",
   "metadata": {},
   "outputs": [
    {
     "name": "stdout",
     "output_type": "stream",
     "text": [
      "{'belgium': '', 'netherlands': ''}\n"
     ]
    },
    {
     "ename": "AttributeError",
     "evalue": "'NoneType' object has no attribute 'group'",
     "output_type": "error",
     "traceback": [
      "\u001b[0;31m---------------------------------------------------------------------------\u001b[0m",
      "\u001b[0;31mAttributeError\u001b[0m                            Traceback (most recent call last)",
      "\u001b[0;32m/var/folders/75/_lpdck312plbd86wrgx53dbc0000gn/T/ipykernel_1132/3777778761.py\u001b[0m in \u001b[0;36m<module>\u001b[0;34m\u001b[0m\n\u001b[0;32m----> 1\u001b[0;31m \u001b[0mcompany_urls\u001b[0m \u001b[0;34m=\u001b[0m \u001b[0mget_urls\u001b[0m\u001b[0;34m(\u001b[0m\u001b[0;34m[\u001b[0m\u001b[0;34m'pwc'\u001b[0m\u001b[0;34m,\u001b[0m \u001b[0;34m'deloitte'\u001b[0m\u001b[0;34m]\u001b[0m\u001b[0;34m,\u001b[0m \u001b[0;34m[\u001b[0m\u001b[0;34m'belgium'\u001b[0m\u001b[0;34m,\u001b[0m \u001b[0;34m'netherlands'\u001b[0m\u001b[0;34m]\u001b[0m\u001b[0;34m,\u001b[0m \u001b[0;34m'?filter.iso3Language=eng&filter.employmentStatus=REGULAR&filter.employmentStatus=PART_TIME&filter.employmentStatus=INTERN'\u001b[0m\u001b[0;34m)\u001b[0m\u001b[0;34m\u001b[0m\u001b[0;34m\u001b[0m\u001b[0m\n\u001b[0m",
      "\u001b[0;32m/var/folders/75/_lpdck312plbd86wrgx53dbc0000gn/T/ipykernel_1132/885319866.py\u001b[0m in \u001b[0;36mget_urls\u001b[0;34m(companies, locations, filter_path)\u001b[0m\n\u001b[1;32m     15\u001b[0m         \u001b[0mdriver\u001b[0m\u001b[0;34m,\u001b[0m \u001b[0murls\u001b[0m \u001b[0;34m=\u001b[0m \u001b[0mget_url_by_location\u001b[0m\u001b[0;34m(\u001b[0m\u001b[0mlocations\u001b[0m\u001b[0;34m,\u001b[0m \u001b[0mdriver\u001b[0m\u001b[0;34m)\u001b[0m\u001b[0;34m\u001b[0m\u001b[0;34m\u001b[0m\u001b[0m\n\u001b[1;32m     16\u001b[0m         \u001b[0mprint\u001b[0m\u001b[0;34m(\u001b[0m\u001b[0murls\u001b[0m\u001b[0;34m)\u001b[0m\u001b[0;34m\u001b[0m\u001b[0;34m\u001b[0m\u001b[0m\n\u001b[0;32m---> 17\u001b[0;31m         \u001b[0murls\u001b[0m \u001b[0;34m=\u001b[0m \u001b[0madd_filter\u001b[0m\u001b[0;34m(\u001b[0m\u001b[0murls\u001b[0m\u001b[0;34m,\u001b[0m \u001b[0mfilter_path\u001b[0m\u001b[0;34m)\u001b[0m\u001b[0;34m\u001b[0m\u001b[0;34m\u001b[0m\u001b[0m\n\u001b[0m\u001b[1;32m     18\u001b[0m         \u001b[0mprint\u001b[0m\u001b[0;34m(\u001b[0m\u001b[0murls\u001b[0m\u001b[0;34m)\u001b[0m\u001b[0;34m\u001b[0m\u001b[0;34m\u001b[0m\u001b[0m\n\u001b[1;32m     19\u001b[0m         \u001b[0mcompany_urls\u001b[0m\u001b[0;34m[\u001b[0m\u001b[0mcompany\u001b[0m\u001b[0;34m]\u001b[0m \u001b[0;34m=\u001b[0m \u001b[0murls\u001b[0m\u001b[0;34m\u001b[0m\u001b[0;34m\u001b[0m\u001b[0m\n",
      "\u001b[0;32m/var/folders/75/_lpdck312plbd86wrgx53dbc0000gn/T/ipykernel_1132/2851974784.py\u001b[0m in \u001b[0;36madd_filter\u001b[0;34m(urls, filter_path)\u001b[0m\n\u001b[1;32m      6\u001b[0m     \u001b[0mgeneral_url\u001b[0m \u001b[0;34m=\u001b[0m \u001b[0mre\u001b[0m\u001b[0;34m.\u001b[0m\u001b[0mcompile\u001b[0m\u001b[0;34m(\u001b[0m\u001b[0;34mr'(https://www\\.glassdoor\\.com.+?\\.htm)\\?filter'\u001b[0m\u001b[0;34m)\u001b[0m\u001b[0;34m\u001b[0m\u001b[0;34m\u001b[0m\u001b[0m\n\u001b[1;32m      7\u001b[0m     \u001b[0;32mfor\u001b[0m \u001b[0mkey\u001b[0m\u001b[0;34m,\u001b[0m \u001b[0mvalue\u001b[0m \u001b[0;32min\u001b[0m \u001b[0murls\u001b[0m\u001b[0;34m.\u001b[0m\u001b[0mitems\u001b[0m\u001b[0;34m(\u001b[0m\u001b[0;34m)\u001b[0m\u001b[0;34m:\u001b[0m\u001b[0;34m\u001b[0m\u001b[0;34m\u001b[0m\u001b[0m\n\u001b[0;32m----> 8\u001b[0;31m         \u001b[0mraw_url\u001b[0m \u001b[0;34m=\u001b[0m \u001b[0mgeneral_url\u001b[0m\u001b[0;34m.\u001b[0m\u001b[0msearch\u001b[0m\u001b[0;34m(\u001b[0m\u001b[0mrepr\u001b[0m\u001b[0;34m(\u001b[0m\u001b[0murls\u001b[0m\u001b[0;34m[\u001b[0m\u001b[0mkey\u001b[0m\u001b[0;34m]\u001b[0m\u001b[0;34m)\u001b[0m\u001b[0;34m)\u001b[0m\u001b[0;34m.\u001b[0m\u001b[0mgroup\u001b[0m\u001b[0;34m(\u001b[0m\u001b[0;36m1\u001b[0m\u001b[0;34m)\u001b[0m\u001b[0;34m\u001b[0m\u001b[0;34m\u001b[0m\u001b[0m\n\u001b[0m\u001b[1;32m      9\u001b[0m         \u001b[0mfiltered_url\u001b[0m \u001b[0;34m=\u001b[0m \u001b[0mraw_url\u001b[0m \u001b[0;34m+\u001b[0m \u001b[0mfilter_path\u001b[0m\u001b[0;34m\u001b[0m\u001b[0;34m\u001b[0m\u001b[0m\n\u001b[1;32m     10\u001b[0m         \u001b[0murls\u001b[0m\u001b[0;34m[\u001b[0m\u001b[0mkey\u001b[0m\u001b[0;34m]\u001b[0m \u001b[0;34m=\u001b[0m \u001b[0mfiltered_url\u001b[0m\u001b[0;34m\u001b[0m\u001b[0;34m\u001b[0m\u001b[0m\n",
      "\u001b[0;31mAttributeError\u001b[0m: 'NoneType' object has no attribute 'group'"
     ]
    }
   ],
   "source": [
    "company_urls = get_urls(['pwc', 'deloitte'], ['belgium', 'netherlands'], '?filter.iso3Language=eng&filter.employmentStatus=REGULAR&filter.employmentStatus=PART_TIME&filter.employmentStatus=INTERN')"
   ]
  },
  {
   "cell_type": "code",
   "execution_count": null,
   "id": "2f30278f-b40a-4d13-88e3-4ff888368f13",
   "metadata": {},
   "outputs": [],
   "source": []
  }
 ],
 "metadata": {
  "kernelspec": {
   "display_name": "Python 3 (ipykernel)",
   "language": "python",
   "name": "python3"
  },
  "language_info": {
   "codemirror_mode": {
    "name": "ipython",
    "version": 3
   },
   "file_extension": ".py",
   "mimetype": "text/x-python",
   "name": "python",
   "nbconvert_exporter": "python",
   "pygments_lexer": "ipython3",
   "version": "3.9.7"
  }
 },
 "nbformat": 4,
 "nbformat_minor": 5
}
